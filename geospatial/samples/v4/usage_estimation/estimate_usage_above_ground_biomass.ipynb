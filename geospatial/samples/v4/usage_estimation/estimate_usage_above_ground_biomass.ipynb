{
 "cells": [
  {
   "cell_type": "markdown",
   "metadata": {},
   "source": [
    "# Usage estimation for Above Ground Biomass\n",
    "\n",
    "<b>Table of Contents</b>\n",
    "\n",
    "- Overview\n",
    "- Setup\n",
    "    - Get authentication token\n",
    "- Query to estimate usage\n",
    "    - Understanding the output\n",
    "\n",
    "## Overview\n",
    "\n",
    "In this section, we leverage the `dry run` functionality of the Geospatial APIs to estimate the usage in bytes for a V4 Above Ground Biomass query, based on the specified spatial and temporal ranges. The same feature can also be applied to calculate usage for datasets under V3 APIs as well. By leveraging this feature, users can get a better understanding of resource consumption before actually running the queries.\n"
   ]
  },
  {
   "cell_type": "markdown",
   "metadata": {},
   "source": [
    "## Setup\n",
    "\n",
    "Before starting, you have to install IBM EI Geospatial python SDK i.e ibmpairs and other modules needed to run this sample, mentioned in the below cell.\n",
    "\n",
    "<b>Note:</b> To run this notebook seamlessly, you have to first configure your Geospatial APIs' credentials in a file named `secrets.ini` in the below format:\n",
    "\n",
    "```\n",
    "[EI]\n",
    "api.api_key = <Your Geospatial APIs API key>\n",
    "api.tenant_id = <Your Geospatial APIs Tenant ID>\n",
    "api.org_id = <Your Geospatial APIs Org ID>\n",
    "\n",
    "```\n",
    "Keep the secrets.ini file at an appropriate relative location of this notebook. For example, as specified in the config below.\n",
    "\n",
    "```config.read('../../../auth/secrets.ini')```"
   ]
  },
  {
   "cell_type": "code",
   "execution_count": null,
   "metadata": {},
   "outputs": [],
   "source": [
    "%pip install ibmpairs\n",
    "%pip install configparser"
   ]
  },
  {
   "cell_type": "code",
   "execution_count": 35,
   "metadata": {},
   "outputs": [],
   "source": [
    "import ibmpairs.client as client\n",
    "import ibmpairs.query as query\n",
    "import configparser"
   ]
  },
  {
   "cell_type": "markdown",
   "metadata": {},
   "source": [
    "### Get authentication token\n",
    "\n",
    "Now, let's create a client object using the API_KEY, TENANT_ID (or CLIENT_ID) and ORG_ID to create an authenticated HTTP client Authentication token using 'ibmpairs.client' module, to use it in the subsequent steps."
   ]
  },
  {
   "cell_type": "code",
   "execution_count": 36,
   "metadata": {},
   "outputs": [
    {
     "name": "stdout",
     "output_type": "stream",
     "text": [
      "2025-02-13 17:25:37 - paw - INFO - The client authentication method is assumed to be OAuth2.\n",
      "2025-02-13 17:25:37 - paw - INFO - Legacy Environment is False\n",
      "2025-02-13 17:25:37 - paw - INFO - The authentication api key type is assumed to be IBM EIS, because the api key prefix 'PHX' is present.\n",
      "2025-02-13 17:25:40 - paw - INFO - Authentication success.\n",
      "2025-02-13 17:25:40 - paw - INFO - HOST: https://api.ibm.com/geospatial/run/na/core/v4\n"
     ]
    }
   ],
   "source": [
    "config = configparser.RawConfigParser()\n",
    "config.read('../../../auth/secrets.ini')\n",
    "\n",
    "EI_ORG_ID     = config.get('EI', 'api.org_id') \n",
    "EI_TENANT_ID  = config.get('EI', 'api.tenant_id') \n",
    "EI_APIKEY     = config.get('EI', 'api.api_key')\n",
    "\n",
    "EI_client_v4 = client.get_client(org_id    = EI_ORG_ID,\n",
    "                                  tenant_id = EI_TENANT_ID,\n",
    "                                  api_key     = EI_APIKEY,\n",
    "                                  version   = 4\n",
    "                                )"
   ]
  },
  {
   "cell_type": "markdown",
   "metadata": {},
   "source": [
    "## Query to estimate usage\n",
    "\n",
    "The following code snippet submits the query for the AGB Data Layer <b><i>above-ground-biomass</i></b> for an area in Brazil spanning approximately 10,000 hectares for the year 2023 using Geospatial APIs V4 query API with the `dryrun` enabled to estimate resource usage.\n",
    "\n",
    "We will go ahead and submit the query and observe the output."
   ]
  },
  {
   "cell_type": "code",
   "execution_count": 39,
   "metadata": {},
   "outputs": [
    {
     "name": "stdout",
     "output_type": "stream",
     "text": [
      "2025-02-13 17:34:16 - paw - INFO - TASK: submit STARTING.\n",
      "2025-02-13 17:34:19 - paw - INFO - TASK: submit COMPLETED.\n",
      "{\n",
      "    \"info\": {\n",
      "        \"count\": 0,\n",
      "        \"interactive_max_count\": 0,\n",
      "        \"max_count\": 0,\n",
      "        \"max_usage\": 6442450.944,\n",
      "        \"usage\": 815052,\n",
      "        \"usage_unit\": \"bytes\"\n",
      "    }\n",
      "}\n"
     ]
    }
   ],
   "source": [
    "above_ground_biomass_query_object = query.submit({ \n",
    "                          \"name\": \"Above Ground Biomass - usage calculation\",\n",
    "                          \"dryRun\": True,\n",
    "                          \"spatial\": {\n",
    "                              \"geojson\": {\n",
    "                                  \"type\": \"Feature\",\n",
    "                                  \"geometry\": {\n",
    "                                      \"type\":\"MultiPolygon\",\n",
    "                                       \"coordinates\": [\n",
    "                                           [\n",
    "                                                [[-60.21655835189182 , -2.8902202011994365], \n",
    "                                                [-60.221233764112455, -2.7948417918984165], \n",
    "                                                [-60.13520617925271 , -2.7864260499012676], \n",
    "                                                [-60.1211799425908  , -2.882739541646415 ], \n",
    "                                                [-60.21655835189182 , -2.8902202011994365]] \n",
    "                                           ]\n",
    "                                       ]\n",
    "                                  }   \n",
    "                              } \n",
    "                          },\n",
    "                          \"temporal\": {\n",
    "                              \"years\": [2023] \n",
    "                          },\n",
    "                          \"layers\": [\n",
    "                              {\n",
    "                                  \"datalayer\": \"above-ground-biomass\" \n",
    "                              }\n",
    "                            ]\n",
    "                          },EI_client_v4)\n",
    "\n",
    "print(above_ground_biomass_query_object.submit_response)"
   ]
  },
  {
   "cell_type": "markdown",
   "metadata": {},
   "source": [
    "### Understanding the output\n",
    "The API response provides an estimated usage of 815,052 bytes per API call when querying the Above Ground Biomass data for a 10,000-hectare plot in Brazil for the year 2023. Please note that the usage estimate increases with the addition of historical years and expansion of spatial area within the query. However, the estimate remains unchanged when future years are added, as it is calculated based on the historical years available in the query for which data exists.\n",
    "\n",
    "Similarly, usage can be calculated for different spatial and temporal ranges of interest, ensuring resource estimates tailored to specific query parameters."
   ]
  }
 ],
 "metadata": {
  "kernelspec": {
   "display_name": "Python 3 (ipykernel)",
   "language": "python",
   "name": "python3"
  },
  "language_info": {
   "codemirror_mode": {
    "name": "ipython",
    "version": 3
   },
   "file_extension": ".py",
   "mimetype": "text/x-python",
   "name": "python",
   "nbconvert_exporter": "python",
   "pygments_lexer": "ipython3",
   "version": "3.11.7"
  }
 },
 "nbformat": 4,
 "nbformat_minor": 4
}
