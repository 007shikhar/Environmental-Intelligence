{
 "cells": [
  {
   "cell_type": "markdown",
   "metadata": {},
   "source": [
    "# Usage estimation for V3 queries\n",
    "\n",
    "<b>Table of Contents</b>\n",
    "\n",
    "- Overview\n",
    "- Setup\n",
    "    - Get authentication token\n",
    "- Query to estimate usage\n",
    "    - Understanding the outputs\n",
    "\n",
    "## Overview\n",
    "\n",
    "In this section, we leverage the `dryRun` functionality of the Geospatial API to estimate the usage in bytes for a V3 query, based on the specified spatial and temporal ranges. By leveraging this feature, users can get a better understanding of resource consumption before actually running the queries.\n"
   ]
  },
  {
   "cell_type": "markdown",
   "metadata": {},
   "source": [
    "## Setup\n",
    "\n",
    "Before starting, you have to install IBM EI Geospatial python SDK i.e ibmpairs and other modules needed to run this sample, mentioned in the below cell.\n",
    "\n",
    "<b>Note:</b> To run this notebook seamlessly, you have to first configure your Geospatial APIs' credentials in a file named `secrets.ini` in the below format:\n",
    "\n",
    "```\n",
    "[EI]\n",
    "api.api_key = <Your Geospatial APIs API key>\n",
    "api.tenant_id = <Your Geospatial APIs Tenant ID>\n",
    "api.org_id = <Your Geospatial APIs Org ID>\n",
    "\n",
    "```\n",
    "Keep the secrets.ini file at an appropriate relative location of this notebook. For example, as specified in the config below.\n",
    "\n",
    "```config.read('../../../auth/secrets.ini')```"
   ]
  },
  {
   "cell_type": "code",
   "execution_count": null,
   "metadata": {},
   "outputs": [],
   "source": [
    "%pip install ibmpairs\n",
    "%pip install configparser"
   ]
  },
  {
   "cell_type": "code",
   "execution_count": 13,
   "metadata": {},
   "outputs": [],
   "source": [
    "import ibmpairs.client as client\n",
    "import ibmpairs.query as query\n",
    "import configparser"
   ]
  },
  {
   "cell_type": "markdown",
   "metadata": {},
   "source": [
    "### Get authentication token\n",
    "\n",
    "Now, let's create a client object using the API_KEY, TENANT_ID (or CLIENT_ID) and ORG_ID to create an authenticated HTTP client Authentication token using 'ibmpairs.client' module, to use it in the subsequent steps."
   ]
  },
  {
   "cell_type": "code",
   "execution_count": 14,
   "metadata": {},
   "outputs": [
    {
     "name": "stdout",
     "output_type": "stream",
     "text": [
      "2025-03-20 13:37:26 - paw - INFO - The client authentication method is assumed to be OAuth2.\n",
      "2025-03-20 13:37:26 - paw - INFO - Legacy Environment is False\n",
      "2025-03-20 13:37:26 - paw - INFO - The authentication api key type is assumed to be IBM EIS, because the api key prefix 'PHX' is present.\n",
      "2025-03-20 13:37:29 - paw - INFO - Authentication success.\n",
      "2025-03-20 13:37:29 - paw - INFO - HOST: https://api.ibm.com/geospatial/run/na/core/v3\n"
     ]
    }
   ],
   "source": [
    "config = configparser.RawConfigParser()\n",
    "config.read('../../../auth/secrets.ini')\n",
    "\n",
    "EI_ORG_ID     = config.get('EI', 'api.org_id') \n",
    "EI_TENANT_ID  = config.get('EI', 'api.tenant_id') \n",
    "EI_APIKEY     = config.get('EI', 'api.api_key')\n",
    "\n",
    "EI_client_v3 = client.get_client(org_id    = EI_ORG_ID,\n",
    "                                  tenant_id = EI_TENANT_ID,\n",
    "                                  api_key     = EI_APIKEY,\n",
    "                                  version   = 3\n",
    "                                )"
   ]
  },
  {
   "cell_type": "markdown",
   "metadata": {},
   "source": [
    "## Query to estimate usage\n",
    "\n",
    "The following code snippet submits the query for the Data Layers 49360,49681 and 49689 corresponding to Band 4 (red),Band 3 (green) and Water vapor for an area in South of USA spanning approximately 10,000 hectares for the month of January 2023 using Geospatial APIs V3 query API with the dryRun enabled to estimate resource usage.\n",
    "\n",
    "We will go ahead and submit the query and observe the output."
   ]
  },
  {
   "cell_type": "code",
   "execution_count": 15,
   "metadata": {},
   "outputs": [
    {
     "name": "stdout",
     "output_type": "stream",
     "text": [
      "2025-03-20 13:37:33 - paw - INFO - TASK: submit STARTING.\n",
      "2025-03-20 13:37:39 - paw - INFO - TASK: submit COMPLETED.\n",
      "{\n",
      "    \"info\": {\n",
      "        \"count\": 0,\n",
      "        \"interactive_max_count\": 0,\n",
      "        \"max_count\": 0,\n",
      "        \"max_usage\": 6442450.944,\n",
      "        \"usage\": 25386552,\n",
      "        \"usage_unit\": \"bytes\"\n",
      "    }\n",
      "}\n"
     ]
    }
   ],
   "source": [
    "v3_query_object = query.submit({\n",
    "                          \"name\": \"usage calculation\",\n",
    "                          \"dryRun\": True,\n",
    "                          \"spatial\": {\n",
    "                            \"type\": \"poly\",\n",
    "                            \"polygon\": {\n",
    "                              \"wkt\": \"Polygon ((-98.11179332181011148 28.64406107625320885, -98.12378016740014175 28.72704693033795209, -98.01589855708996879 28.72028512000512279, -97.99592048110660869 28.63668455589012041, -98.11179332181011148 28.64406107625320885))\"\n",
    "                            }\n",
    "                          },\n",
    "                          \"temporal\": {\n",
    "                            \"intervals\": [\n",
    "                              {\n",
    "                                \"start\": \"2023-01-01 00:00:00\",\n",
    "                                \"end\": \"2023-12-31 00:00:00\"\n",
    "                              }\n",
    "                            ]\n",
    "                          },\n",
    "                          \"layers\": [\n",
    "                            {  \n",
    "                             \"type\": \"raster\",\n",
    "                              \"id\": \"49360\",\n",
    "                              \"output\": False\n",
    "                            },\n",
    "                            {\n",
    "                              \"type\": \"raster\",\n",
    "                              \"id\": \"49681\",\n",
    "                              \"output\": False\n",
    "                            },\n",
    "                            {\n",
    "                              \"type\": \"raster\",\n",
    "                              \"id\": \"49689\",\n",
    "                              \"output\": False\n",
    "                            }\n",
    "                          ]\n",
    "                        }, client=EI_client_v3)\n",
    "\n",
    "print(v3_query_object.submit_response)"
   ]
  },
  {
   "cell_type": "markdown",
   "metadata": {},
   "source": [
    "### Understanding the output\n",
    "The API response provides an estimated usage of 25386552 bytes per API call when querying the data for the spatial and temporal range mentioned above. Please note that the resource usage estimate increases with the expansion in temporal and spatial ranges.\n",
    "\n",
    "Similarly, usage can be calculated for different spatial and temporal ranges of interest for various combinations of Data Layers, ensuring resource estimates tailored to specific query parameters."
   ]
  }
 ],
 "metadata": {
  "kernelspec": {
   "display_name": ".venv",
   "language": "python",
   "name": "python3"
  },
  "language_info": {
   "codemirror_mode": {
    "name": "ipython",
    "version": 3
   },
   "file_extension": ".py",
   "mimetype": "text/x-python",
   "name": "python",
   "nbconvert_exporter": "python",
   "pygments_lexer": "ipython3",
   "version": "3.13.2"
  }
 },
 "nbformat": 4,
 "nbformat_minor": 4
}
